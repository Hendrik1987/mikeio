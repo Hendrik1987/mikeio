{
 "cells": [
  {
   "cell_type": "code",
   "execution_count": 1,
   "metadata": {},
   "outputs": [
    {
     "data": {
      "text/plain": [
       "DataSet(data, time, items)\n",
       "Number of items: 2\n",
       "Shape: (100, 100, 30)\n",
       "2001-01-01 00:00:00 - 2001-01-05 03:00:00"
      ]
     },
     "execution_count": 1,
     "metadata": {},
     "output_type": "execute_result"
    }
   ],
   "source": [
    "import numpy as np\n",
    "import pandas as pd\n",
    "import mikeio\n",
    "from mikeio.dutil import Dataset, ItemInfo\n",
    "from mikeio.eum import EUMType, EUMUnit\n",
    "\n",
    "\n",
    "nt = 100\n",
    "d1 = np.zeros([nt, 100, 30]) + 1.5\n",
    "d2 = np.zeros([nt, 100, 30]) + 2.0\n",
    "\n",
    "d1[0, 10, :] = 2.0\n",
    "d2[0, 10, :] = 3.0\n",
    "data = [d1, d2]\n",
    "\n",
    "time = list(pd.date_range(start=\"2001-01-01\",periods=nt,freq=\"H\"))\n",
    "items = [ItemInfo(\"Foo\",EUMType.Water_Depth), ItemInfo(\"Bar\",EUMType.Darcy_Velocity)]\n",
    "ds = Dataset(data, time, items)\n",
    "ds"
   ]
  },
  {
   "cell_type": "markdown",
   "metadata": {},
   "source": [
    "# Convert to Xarray dataset\n",
    "\n",
    "*Requires [xarray](http://xarray.pydata.org/en/stable/) to be installed, since this is not a direct dependancy of mikeio*"
   ]
  },
  {
   "cell_type": "code",
   "execution_count": 2,
   "metadata": {},
   "outputs": [
    {
     "data": {
      "text/html": [
       "<pre>&lt;xarray.Dataset&gt;\n",
       "Dimensions:  (t: 100, x: 30, y: 100)\n",
       "Coordinates:\n",
       "  * t        (t) datetime64[ns] 2001-01-01 ... 2001-01-05T03:00:00\n",
       "Dimensions without coordinates: x, y\n",
       "Data variables:\n",
       "    Foo      (t, y, x) float64 1.5 1.5 1.5 1.5 1.5 1.5 ... 1.5 1.5 1.5 1.5 1.5\n",
       "    Bar      (t, y, x) float64 2.0 2.0 2.0 2.0 2.0 2.0 ... 2.0 2.0 2.0 2.0 2.0</pre>"
      ],
      "text/plain": [
       "<xarray.Dataset>\n",
       "Dimensions:  (t: 100, x: 30, y: 100)\n",
       "Coordinates:\n",
       "  * t        (t) datetime64[ns] 2001-01-01 ... 2001-01-05T03:00:00\n",
       "Dimensions without coordinates: x, y\n",
       "Data variables:\n",
       "    Foo      (t, y, x) float64 1.5 1.5 1.5 1.5 1.5 1.5 ... 1.5 1.5 1.5 1.5 1.5\n",
       "    Bar      (t, y, x) float64 2.0 2.0 2.0 2.0 2.0 2.0 ... 2.0 2.0 2.0 2.0 2.0"
      ]
     },
     "execution_count": 2,
     "metadata": {},
     "output_type": "execute_result"
    }
   ],
   "source": [
    "xds = ds.to_xarray()\n",
    "xds"
   ]
  },
  {
   "cell_type": "code",
   "execution_count": 3,
   "metadata": {},
   "outputs": [],
   "source": [
    "xds.to_netcdf(\"test.nc\")"
   ]
  },
  {
   "cell_type": "code",
   "execution_count": 4,
   "metadata": {},
   "outputs": [
    {
     "data": {
      "text/html": [
       "<pre>&lt;xarray.Dataset&gt;\n",
       "Dimensions:  (x: 30, y: 100)\n",
       "Coordinates:\n",
       "    t        datetime64[ns] 2001-01-05\n",
       "Dimensions without coordinates: x, y\n",
       "Data variables:\n",
       "    Foo      (y, x) float64 1.5 1.5 1.5 1.5 1.5 1.5 ... 1.5 1.5 1.5 1.5 1.5 1.5\n",
       "    Bar      (y, x) float64 2.0 2.0 2.0 2.0 2.0 2.0 ... 2.0 2.0 2.0 2.0 2.0 2.0</pre>"
      ],
      "text/plain": [
       "<xarray.Dataset>\n",
       "Dimensions:  (x: 30, y: 100)\n",
       "Coordinates:\n",
       "    t        datetime64[ns] 2001-01-05\n",
       "Dimensions without coordinates: x, y\n",
       "Data variables:\n",
       "    Foo      (y, x) float64 1.5 1.5 1.5 1.5 1.5 1.5 ... 1.5 1.5 1.5 1.5 1.5 1.5\n",
       "    Bar      (y, x) float64 2.0 2.0 2.0 2.0 2.0 2.0 ... 2.0 2.0 2.0 2.0 2.0 2.0"
      ]
     },
     "execution_count": 4,
     "metadata": {},
     "output_type": "execute_result"
    }
   ],
   "source": [
    "xds.sel(t=\"2001-01-05 00:00\")"
   ]
  },
  {
   "cell_type": "markdown",
   "metadata": {},
   "source": [
    "## Dfs2"
   ]
  },
  {
   "cell_type": "code",
   "execution_count": 5,
   "metadata": {},
   "outputs": [
    {
     "data": {
      "text/plain": [
       "DataSet(data, time, items)\n",
       "Number of items: 1\n",
       "Shape: (1, 264, 216)\n",
       "2020-05-15 11:04:52 - 2020-05-15 11:04:52"
      ]
     },
     "execution_count": 5,
     "metadata": {},
     "output_type": "execute_result"
    }
   ],
   "source": [
    "ds = mikeio.read(\"../tests/testdata/gebco_sound.dfs2\")\n",
    "ds"
   ]
  },
  {
   "cell_type": "code",
   "execution_count": 6,
   "metadata": {},
   "outputs": [
    {
     "data": {
      "text/plain": [
       "-31.0"
      ]
     },
     "execution_count": 6,
     "metadata": {},
     "output_type": "execute_result"
    }
   ],
   "source": [
    "ds['Elevation'][0,0,0]"
   ]
  },
  {
   "cell_type": "code",
   "execution_count": 7,
   "metadata": {},
   "outputs": [
    {
     "data": {
      "text/html": [
       "<pre>&lt;xarray.Dataset&gt;\n",
       "Dimensions:    (lat: 264, lon: 216)\n",
       "Coordinates:\n",
       "  * lon        (lon) float64 12.2 12.21 12.21 12.21 ... 13.09 13.09 13.09 13.1\n",
       "  * lat        (lat) float64 56.3 56.29 56.29 56.29 ... 55.21 55.21 55.21 55.2\n",
       "Data variables:\n",
       "    Elevation  (lat, lon) float64 -31.0 -30.0 -31.0 -31.0 ... -37.0 -38.0 -38.0</pre>"
      ],
      "text/plain": [
       "<xarray.Dataset>\n",
       "Dimensions:    (lat: 264, lon: 216)\n",
       "Coordinates:\n",
       "  * lon        (lon) float64 12.2 12.21 12.21 12.21 ... 13.09 13.09 13.09 13.1\n",
       "  * lat        (lat) float64 56.3 56.29 56.29 56.29 ... 55.21 55.21 55.21 55.2\n",
       "Data variables:\n",
       "    Elevation  (lat, lon) float64 -31.0 -30.0 -31.0 -31.0 ... -37.0 -38.0 -38.0"
      ]
     },
     "execution_count": 7,
     "metadata": {},
     "output_type": "execute_result"
    }
   ],
   "source": [
    "xds = ds.to_xarray()\n",
    "xds"
   ]
  },
  {
   "cell_type": "code",
   "execution_count": 8,
   "metadata": {},
   "outputs": [
    {
     "data": {
      "text/html": [
       "<pre>&lt;xarray.DataArray &#x27;Elevation&#x27; ()&gt;\n",
       "array(-31.)\n",
       "Coordinates:\n",
       "    lon      float64 12.2\n",
       "    lat      float64 56.3\n",
       "Attributes:\n",
       "    name:     Elevation\n",
       "    units:    meter\n",
       "    eumType:  EUMType.Total_Water_Depth\n",
       "    eumUnit:  EUMUnit.meter</pre>"
      ],
      "text/plain": [
       "<xarray.DataArray 'Elevation' ()>\n",
       "array(-31.)\n",
       "Coordinates:\n",
       "    lon      float64 12.2\n",
       "    lat      float64 56.3\n",
       "Attributes:\n",
       "    name:     Elevation\n",
       "    units:    meter\n",
       "    eumType:  EUMType.Total_Water_Depth\n",
       "    eumUnit:  EUMUnit.meter"
      ]
     },
     "execution_count": 8,
     "metadata": {},
     "output_type": "execute_result"
    }
   ],
   "source": [
    "xds.Elevation[0,0]"
   ]
  },
  {
   "cell_type": "code",
   "execution_count": 9,
   "metadata": {},
   "outputs": [
    {
     "data": {
      "text/plain": [
       "<matplotlib.collections.QuadMesh at 0x1a750f2d988>"
      ]
     },
     "execution_count": 9,
     "metadata": {},
     "output_type": "execute_result"
    },
    {
     "data": {
      "image/png": "[encoded data removed]",
      "text/plain": [
       "<Figure size 432x288 with 2 Axes>"
      ]
     },
     "metadata": {
      "needs_background": "light"
     },
     "output_type": "display_data"
    }
   ],
   "source": [
    "xds.Elevation.plot()"
   ]
  },
  {
   "cell_type": "code",
   "execution_count": 10,
   "metadata": {},
   "outputs": [],
   "source": [
    "elev = xds.Elevation"
   ]
  },
  {
   "cell_type": "code",
   "execution_count": 11,
   "metadata": {},
   "outputs": [
    {
     "data": {
      "text/plain": [
       "[<matplotlib.lines.Line2D at 0x1a75121aac8>]"
      ]
     },
     "execution_count": 11,
     "metadata": {},
     "output_type": "execute_result"
    },
    {
     "data": {
      "image/png": "[encoded data removed]",
      "text/plain": [
       "<Figure size 432x288 with 1 Axes>"
      ]
     },
     "metadata": {
      "needs_background": "light"
     },
     "output_type": "display_data"
    }
   ],
   "source": [
    "elev.min(dim=\"lat\").plot()"
   ]
  },
  {
   "cell_type": "markdown",
   "metadata": {},
   "source": [
    "# Clean up"
   ]
  },
  {
   "cell_type": "code",
   "execution_count": 12,
   "metadata": {},
   "outputs": [],
   "source": [
    "import os\n",
    "os.remove(\"test.nc\")"
   ]
  },
  {
   "cell_type": "code",
   "execution_count": null,
   "metadata": {},
   "outputs": [],
   "source": []
  }
 ],
 "metadata": {
  "kernelspec": {
   "display_name": "Python 3",
   "language": "python",
   "name": "python3"
  },
  "language_info": {
   "codemirror_mode": {
    "name": "ipython",
    "version": 3
   },
   "file_extension": ".py",
   "mimetype": "text/x-python",
   "name": "python",
   "nbconvert_exporter": "python",
   "pygments_lexer": "ipython3",
   "version": "3.7.4"
  }
 },
 "nbformat": 4,
 "nbformat_minor": 4
}
